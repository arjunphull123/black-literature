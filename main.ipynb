{
 "cells": [
  {
   "cell_type": "code",
   "execution_count": 2,
   "metadata": {},
   "outputs": [],
   "source": [
    "import statistics"
   ]
  },
  {
   "cell_type": "code",
   "execution_count": 3,
   "metadata": {},
   "outputs": [
    {
     "data": {
      "text/plain": [
       "[1985,\n",
       " 1986,\n",
       " 1987,\n",
       " 1988,\n",
       " 1989,\n",
       " 1990,\n",
       " 1991,\n",
       " 1992,\n",
       " 1993,\n",
       " 1994,\n",
       " 1995,\n",
       " 1996,\n",
       " 1997,\n",
       " 1998,\n",
       " 1999,\n",
       " 2000,\n",
       " 2001,\n",
       " 2002,\n",
       " 2003,\n",
       " 2004,\n",
       " 2005,\n",
       " 2006,\n",
       " 2007,\n",
       " 2008,\n",
       " 2009,\n",
       " 2010,\n",
       " 2011,\n",
       " 2012,\n",
       " 2013,\n",
       " 2014,\n",
       " 2015,\n",
       " 2016,\n",
       " 2017,\n",
       " 2018,\n",
       " 2019,\n",
       " 2020,\n",
       " 2021]"
      ]
     },
     "execution_count": 3,
     "metadata": {},
     "output_type": "execute_result"
    }
   ],
   "source": [
    "years = range(1985, 2022)\n",
    "years = list(years)\n",
    "years"
   ]
  },
  {
   "cell_type": "code",
   "execution_count": 4,
   "metadata": {},
   "outputs": [
    {
     "data": {
      "text/plain": [
       "'[p1985, p1986, p1987, p1988, p1989, p1990, p1991, p1992, p1993, p1994, p1995, p1996, p1997, p1998, p1999, p2000, p2001, p2002, p2003, p2004, p2005, p2006, p2007, p2008, p2009, p2010, p2011, p2012, p2013, p2014, p2015, p2016, p2017, p2018, p2019, p2020, p2021]'"
      ]
     },
     "execution_count": 4,
     "metadata": {},
     "output_type": "execute_result"
    }
   ],
   "source": [
    "pencils = '['\n",
    "for year in years:\n",
    "    pencils += 'p' + str(year)\n",
    "    if year != years[-1]:\n",
    "        pencils += ', '\n",
    "pencils += ']'\n",
    "pencils"
   ]
  },
  {
   "cell_type": "code",
   "execution_count": 5,
   "metadata": {},
   "outputs": [
    {
     "data": {
      "text/plain": [
       "['p1985',\n",
       " 'p1986',\n",
       " 'p1987',\n",
       " 'p1988',\n",
       " 'p1989',\n",
       " 'p1990',\n",
       " 'p1991',\n",
       " 'p1992',\n",
       " 'p1993',\n",
       " 'p1994',\n",
       " 'p1995',\n",
       " 'p1996',\n",
       " 'p1997',\n",
       " 'p1998',\n",
       " 'p1999',\n",
       " 'p2000',\n",
       " 'p2001',\n",
       " 'p2002',\n",
       " 'p2003',\n",
       " 'p2004',\n",
       " 'p2005',\n",
       " 'p2006',\n",
       " 'p2007',\n",
       " 'p2008',\n",
       " 'p2009',\n",
       " 'p2010',\n",
       " 'p2011',\n",
       " 'p2012',\n",
       " 'p2013',\n",
       " 'p2014',\n",
       " 'p2015',\n",
       " 'p2016',\n",
       " 'p2017',\n",
       " 'p2018',\n",
       " 'p2019',\n",
       " 'p2020',\n",
       " 'p2021']"
      ]
     },
     "execution_count": 5,
     "metadata": {},
     "output_type": "execute_result"
    }
   ],
   "source": [
    "p_list = pencils.strip('[]').split(', ')\n",
    "p_list"
   ]
  },
  {
   "cell_type": "code",
   "execution_count": 6,
   "metadata": {},
   "outputs": [
    {
     "data": {
      "text/plain": [
       "{'p1985': 1985,\n",
       " 'p1986': 1986,\n",
       " 'p1987': 1987,\n",
       " 'p1988': 1988,\n",
       " 'p1989': 1989,\n",
       " 'p1990': 1990,\n",
       " 'p1991': 1991,\n",
       " 'p1992': 1992,\n",
       " 'p1993': 1993,\n",
       " 'p1994': 1994,\n",
       " 'p1995': 1995,\n",
       " 'p1996': 1996,\n",
       " 'p1997': 1997,\n",
       " 'p1998': 1998,\n",
       " 'p1999': 1999,\n",
       " 'p2000': 2000,\n",
       " 'p2001': 2001,\n",
       " 'p2002': 2002,\n",
       " 'p2003': 2003,\n",
       " 'p2004': 2004,\n",
       " 'p2005': 2005,\n",
       " 'p2006': 2006,\n",
       " 'p2007': 2007,\n",
       " 'p2008': 2008,\n",
       " 'p2009': 2009,\n",
       " 'p2010': 2010,\n",
       " 'p2011': 2011,\n",
       " 'p2012': 2012,\n",
       " 'p2013': 2013,\n",
       " 'p2014': 2014,\n",
       " 'p2015': 2015,\n",
       " 'p2016': 2016,\n",
       " 'p2017': 2017,\n",
       " 'p2018': 2018,\n",
       " 'p2019': 2019,\n",
       " 'p2020': 2020,\n",
       " 'p2021': 2021}"
      ]
     },
     "execution_count": 6,
     "metadata": {},
     "output_type": "execute_result"
    }
   ],
   "source": [
    "dct = {}\n",
    "for p, y in zip(p_list, years):\n",
    "    dct[p] = y\n",
    "dct"
   ]
  },
  {
   "cell_type": "code",
   "execution_count": 7,
   "metadata": {},
   "outputs": [
    {
     "name": "stdout",
     "output_type": "stream",
     "text": [
      "const p1985 = new Pencil(loadPencil(1985))\n",
      "const p1986 = new Pencil(loadPencil(1986))\n",
      "const p1987 = new Pencil(loadPencil(1987))\n",
      "const p1988 = new Pencil(loadPencil(1988))\n",
      "const p1989 = new Pencil(loadPencil(1989))\n",
      "const p1990 = new Pencil(loadPencil(1990))\n",
      "const p1991 = new Pencil(loadPencil(1991))\n",
      "const p1992 = new Pencil(loadPencil(1992))\n",
      "const p1993 = new Pencil(loadPencil(1993))\n",
      "const p1994 = new Pencil(loadPencil(1994))\n",
      "const p1995 = new Pencil(loadPencil(1995))\n",
      "const p1996 = new Pencil(loadPencil(1996))\n",
      "const p1997 = new Pencil(loadPencil(1997))\n",
      "const p1998 = new Pencil(loadPencil(1998))\n",
      "const p1999 = new Pencil(loadPencil(1999))\n",
      "const p2000 = new Pencil(loadPencil(2000))\n",
      "const p2001 = new Pencil(loadPencil(2001))\n",
      "const p2002 = new Pencil(loadPencil(2002))\n",
      "const p2003 = new Pencil(loadPencil(2003))\n",
      "const p2004 = new Pencil(loadPencil(2004))\n",
      "const p2005 = new Pencil(loadPencil(2005))\n",
      "const p2006 = new Pencil(loadPencil(2006))\n",
      "const p2007 = new Pencil(loadPencil(2007))\n",
      "const p2008 = new Pencil(loadPencil(2008))\n",
      "const p2009 = new Pencil(loadPencil(2009))\n",
      "const p2010 = new Pencil(loadPencil(2010))\n",
      "const p2011 = new Pencil(loadPencil(2011))\n",
      "const p2012 = new Pencil(loadPencil(2012))\n",
      "const p2013 = new Pencil(loadPencil(2013))\n",
      "const p2014 = new Pencil(loadPencil(2014))\n",
      "const p2015 = new Pencil(loadPencil(2015))\n",
      "const p2016 = new Pencil(loadPencil(2016))\n",
      "const p2017 = new Pencil(loadPencil(2017))\n",
      "const p2018 = new Pencil(loadPencil(2018))\n",
      "const p2019 = new Pencil(loadPencil(2019))\n",
      "const p2020 = new Pencil(loadPencil(2020))\n",
      "const p2021 = new Pencil(loadPencil(2021))\n"
     ]
    }
   ],
   "source": [
    "for p in dct:\n",
    "    print('const ' + p + ' = new Pencil(loadPencil(' + str(dct[p]) + '))')"
   ]
  },
  {
   "cell_type": "code",
   "execution_count": 17,
   "metadata": {},
   "outputs": [
    {
     "data": {
      "text/plain": [
       "{1985: ['2,500', '18', 0.7],\n",
       " 1986: ['3,000', '18', 0.6],\n",
       " 1987: ['3,000', '30', 1.0],\n",
       " 1988: ['3,000', '39', 1.3],\n",
       " 1989: ['4,000', '48', 1.2],\n",
       " 1990: ['5,000', '51', 1.0],\n",
       " 1991: ['4,000', '70', 1.8],\n",
       " 1992: ['4,500', '94', 2.1],\n",
       " 1993: ['4,500', '74', 1.6],\n",
       " 1994: ['4,500', '82', 1.8],\n",
       " 1995: ['4,500', '100', 2.2],\n",
       " 1996: ['4,500', '92', 2.0],\n",
       " 1997: ['5,000', '88', 1.8],\n",
       " 1998: ['5,000', '96', 1.9],\n",
       " 1999: ['5,000', '82', 1.6],\n",
       " 2000: ['5,500', '96', 1.7],\n",
       " 2001: ['5,500', '99', 1.8],\n",
       " 2002: ['3,150', '69', 2.2],\n",
       " 2003: ['3,200', '79', 2.5],\n",
       " 2004: ['2,800', '99', 3.5],\n",
       " 2005: ['2,800', '75', 2.7],\n",
       " 2006: ['3,000', '87', 2.9],\n",
       " 2007: ['3,000', '77', 2.6],\n",
       " 2008: ['3,000', '83', 2.8],\n",
       " 2009: ['3,000', '83', 2.8],\n",
       " 2010: ['3,400', '102', 3.0],\n",
       " 2011: ['3,400', '79', 2.3],\n",
       " 2012: ['3,600', '69', 1.9],\n",
       " 2013: ['3,200', '69', 2.2],\n",
       " 2014: ['3,500', '85', 2.4],\n",
       " 2015: ['3,400', '108', 3.2],\n",
       " 2016: ['3,400', '94', 2.8],\n",
       " 2017: ['3,700', '132', 3.6],\n",
       " 2018: ['3,682', '214', 5.8],\n",
       " 2019: ['4,075', '235', 5.8],\n",
       " 2020: ['3,451', '260', 7.5],\n",
       " 2021: ['3,427', '315', 9.2]}"
      ]
     },
     "execution_count": 17,
     "metadata": {},
     "output_type": "execute_result"
    }
   ],
   "source": [
    "file = open('black_writers.txt', 'r')\n",
    "wholeData = {}\n",
    "for line in file:\n",
    "    line = line.strip('ï»¿\\n').split(',')\n",
    "    year = int(line[0])\n",
    "    total = '{:,}'.format(int(line[1]))\n",
    "    black = line[2]\n",
    "    pct = round(float(line[3])*100, 1)\n",
    "    \n",
    "    line = [year, total, black, pct]\n",
    "    wholeData[year] = [total, black, pct]\n",
    "wholeData"
   ]
  }
 ],
 "metadata": {
  "kernelspec": {
   "display_name": "Python 3",
   "language": "python",
   "name": "python3"
  },
  "language_info": {
   "codemirror_mode": {
    "name": "ipython",
    "version": 3
   },
   "file_extension": ".py",
   "mimetype": "text/x-python",
   "name": "python",
   "nbconvert_exporter": "python",
   "pygments_lexer": "ipython3",
   "version": "3.11.0"
  },
  "orig_nbformat": 4,
  "vscode": {
   "interpreter": {
    "hash": "c261aea317cc0286b3b3261fbba9abdec21eaa57589985bb7a274bf54d6cc0a7"
   }
  }
 },
 "nbformat": 4,
 "nbformat_minor": 2
}
